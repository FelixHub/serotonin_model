{
 "cells": [
  {
   "cell_type": "code",
   "execution_count": 1,
   "metadata": {},
   "outputs": [
    {
     "name": "stdout",
     "output_type": "stream",
     "text": [
      "cuda\n"
     ]
    }
   ],
   "source": [
    "import torch\n",
    "import torch.nn as nn\n",
    "import torch.nn.functional as F\n",
    "from torchvision import datasets, transforms\n",
    "import numpy as np\n",
    "\n",
    "device = torch.device('cuda' if torch.cuda.is_available() else 'cpu')\n",
    "print(device)\n",
    "\n",
    "# parameters\n",
    "batch_size = 128\n",
    "learning_rate = 1e-3\n",
    "num_epochs = 20\n",
    "img_size = 64\n"
   ]
  },
  {
   "cell_type": "code",
   "execution_count": 2,
   "metadata": {},
   "outputs": [],
   "source": [
    "data = np.load('data/bouncing_mnist_test.npy')\n",
    "data = data.reshape((200000,1,64,64))\n",
    "data = data / 255 # normalize pixel value between 0 and 1\n",
    "\n",
    "train_loader = torch.utils.data.DataLoader(\n",
    "                 dataset=data,\n",
    "                 batch_size=128,\n",
    "                 shuffle=True)"
   ]
  },
  {
   "cell_type": "code",
   "execution_count": 3,
   "metadata": {},
   "outputs": [],
   "source": [
    "class VAE(nn.Module):\n",
    "    def __init__(self, img_size=64, latent_dim=16,nb_output_channel=32):\n",
    "        super(VAE, self).__init__()\n",
    "\n",
    "        self.nb_output_channel = nb_output_channel\n",
    "\n",
    "        self.featureDim = (img_size - 8)*(img_size - 8)*self.nb_output_channel\n",
    "        self.featurePooledDim = self.nb_output_channel*14*14\n",
    "        self.hiddenDim = 128\n",
    "        self.latentDim = latent_dim\n",
    "        \n",
    "        self.indices = None\n",
    "\n",
    "        # Initializing the 2 convolutional layers and 2 full-connected layers for the encoder\n",
    "        self.encConv1 = nn.Conv2d(1, self.nb_output_channel//2, 5)\n",
    "        self.encConv2 = nn.Conv2d(self.nb_output_channel//2, self.nb_output_channel, 5) \n",
    "        self.maxpool = nn.MaxPool2d(4,return_indices=True)\n",
    "        self.encFC = nn.Linear(self.featurePooledDim, self.hiddenDim)\n",
    "        self.encFC1 = nn.Linear(self.hiddenDim, self.latentDim)\n",
    "        self.encFC2 = nn.Linear(self.hiddenDim, self.latentDim)\n",
    "        \n",
    "        # Initializing the fully-connected layer and 2 convolutional layers for decoder\n",
    "        self.decFC = nn.Linear(self.latentDim, self.hiddenDim)\n",
    "        self.decFC1 = nn.Linear(self.hiddenDim, self.featurePooledDim)\n",
    "        self.maxunpool = nn.MaxUnpool2d(4)\n",
    "        self.decConv1 = nn.ConvTranspose2d(self.nb_output_channel, self.nb_output_channel//2, 5)\n",
    "        self.decConv2 = nn.ConvTranspose2d(self.nb_output_channel//2, 1, 5)\n",
    "        \n",
    "    def encoder(self, x):\n",
    "        \n",
    "        # Input is fed into 2 convolutional layers sequentially\n",
    "        # The output feature map are fed into 2 fully-connected layers to predict mean (mu) and variance (logVar)\n",
    "        # Mu and logVar are used for generating middle representation z and KL divergence loss\n",
    "        x = F.relu(self.encConv1(x))\n",
    "        x = F.relu(self.encConv2(x))\n",
    "        x,indices = self.maxpool(x)\n",
    "        self.indices = indices\n",
    "        x = x.view(-1, self.featurePooledDim)\n",
    "        x = F.relu(self.encFC(x))\n",
    "        mu = self.encFC1(x)\n",
    "        logVar = self.encFC2(x)\n",
    "        return mu, logVar\n",
    "    \n",
    "    def reparameterize(self, mu, logVar):\n",
    "        \n",
    "        #Reparameterization takes in the input mu and logVar and sample the mu + std * eps\n",
    "        std = torch.exp(logVar/2)\n",
    "        eps = torch.randn_like(std)\n",
    "        return mu + std * eps\n",
    "    \n",
    "    def decoder(self, z):\n",
    "        \n",
    "        # z is fed back into a fully-connected layers and then into two transpose convolutional layers\n",
    "        # The generated output is the same size of the original input\n",
    "        x = F.relu(self.decFC(z))\n",
    "        x = F.relu(self.decFC1(x))\n",
    "        x = x.view(-1, self.nb_output_channel, 14, 14)\n",
    "        x = self.maxunpool(x,indices=self.indices)\n",
    "        x = F.relu(self.decConv1(x))\n",
    "        x = torch.sigmoid(self.decConv2(x))\n",
    "        return x\n",
    "        \n",
    "    def forward(self, x):\n",
    "        \n",
    "        # The entire pipeline of the VAE: encoder -> reparameterization -> decoder\n",
    "        # output, mu, and logVar are returned for loss computation\n",
    "        mu, logVar = self.encoder(x)\n",
    "        z = self.reparameterize(mu, logVar)\n",
    "        out = self.decoder(z)\n",
    "        return out, mu, logVar\n",
    "\n",
    "def count_parameters(net):\n",
    "    return sum(p.numel() for p in net.parameters() if p.requires_grad)"
   ]
  },
  {
   "cell_type": "code",
   "execution_count": 4,
   "metadata": {},
   "outputs": [
    {
     "name": "stdout",
     "output_type": "stream",
     "text": [
      "nb of params : 1644801\n"
     ]
    }
   ],
   "source": [
    "net = VAE().to(device)\n",
    "print('nb of params : {}'.format(count_parameters(net)))"
   ]
  },
  {
   "cell_type": "code",
   "execution_count": 5,
   "metadata": {},
   "outputs": [],
   "source": [
    "# optimizer\n",
    "optimizer = torch.optim.Adam(net.parameters(), lr=learning_rate)"
   ]
  },
  {
   "cell_type": "code",
   "execution_count": 9,
   "metadata": {},
   "outputs": [
    {
     "name": "stderr",
     "output_type": "stream",
     "text": [
      "epoch 1/ loss=? :   0%|          | 0/1563 [00:00<?, ?it/s]c:\\Users\\fphub\\mambaforge\\envs\\iblenv\\lib\\site-packages\\torch\\nn\\_reduction.py:42: UserWarning: size_average and reduce args will be deprecated, please use reduction='sum' instead.\n",
      "  warnings.warn(warning.format(ret))\n",
      "epoch 1/20/ loss= 7471.577: 100%|██████████| 1563/1563 [01:41<00:00, 15.41it/s]  \n",
      "epoch 2/20/ loss= 14866.904:  42%|████▏     | 662/1563 [00:41<00:56, 16.01it/s] \n"
     ]
    },
    {
     "ename": "KeyboardInterrupt",
     "evalue": "",
     "output_type": "error",
     "traceback": [
      "\u001b[1;31m---------------------------------------------------------------------------\u001b[0m",
      "\u001b[1;31mKeyboardInterrupt\u001b[0m                         Traceback (most recent call last)",
      "\u001b[1;32mc:\\Users\\fphub\\Documents\\ibl\\serotonin_model\\vae convolution.ipynb Cell 6\u001b[0m in \u001b[0;36m<cell line: 3>\u001b[1;34m()\u001b[0m\n\u001b[0;32m     <a href='vscode-notebook-cell:/c%3A/Users/fphub/Documents/ibl/serotonin_model/vae%20convolution.ipynb#W5sZmlsZQ%3D%3D?line=19'>20</a>\u001b[0m \u001b[39m# Backpropagation based on the loss\u001b[39;00m\n\u001b[0;32m     <a href='vscode-notebook-cell:/c%3A/Users/fphub/Documents/ibl/serotonin_model/vae%20convolution.ipynb#W5sZmlsZQ%3D%3D?line=20'>21</a>\u001b[0m optimizer\u001b[39m.\u001b[39mzero_grad()\n\u001b[1;32m---> <a href='vscode-notebook-cell:/c%3A/Users/fphub/Documents/ibl/serotonin_model/vae%20convolution.ipynb#W5sZmlsZQ%3D%3D?line=21'>22</a>\u001b[0m loss\u001b[39m.\u001b[39;49mbackward()\n\u001b[0;32m     <a href='vscode-notebook-cell:/c%3A/Users/fphub/Documents/ibl/serotonin_model/vae%20convolution.ipynb#W5sZmlsZQ%3D%3D?line=22'>23</a>\u001b[0m optimizer\u001b[39m.\u001b[39mstep()\n\u001b[0;32m     <a href='vscode-notebook-cell:/c%3A/Users/fphub/Documents/ibl/serotonin_model/vae%20convolution.ipynb#W5sZmlsZQ%3D%3D?line=24'>25</a>\u001b[0m pbar\u001b[39m.\u001b[39mset_description(\u001b[39m\"\u001b[39m\u001b[39mepoch \u001b[39m\u001b[39m\"\u001b[39m\u001b[39m+\u001b[39m\u001b[39mstr\u001b[39m(epoch\u001b[39m+\u001b[39m\u001b[39m1\u001b[39m)\u001b[39m+\u001b[39m\u001b[39m\"\u001b[39m\u001b[39m/\u001b[39m\u001b[39m\"\u001b[39m\u001b[39m+\u001b[39m\u001b[39mstr\u001b[39m(num_epochs)\u001b[39m+\u001b[39m\u001b[39m\"\u001b[39m\u001b[39m/ loss= \u001b[39m\u001b[39m\"\u001b[39m\u001b[39m+\u001b[39m\u001b[39mstr\u001b[39m(loss\u001b[39m.\u001b[39mcpu()\u001b[39m.\u001b[39mdetach()\u001b[39m.\u001b[39mnumpy()) )\n",
      "File \u001b[1;32mc:\\Users\\fphub\\mambaforge\\envs\\iblenv\\lib\\site-packages\\torch\\_tensor.py:363\u001b[0m, in \u001b[0;36mTensor.backward\u001b[1;34m(self, gradient, retain_graph, create_graph, inputs)\u001b[0m\n\u001b[0;32m    354\u001b[0m \u001b[39mif\u001b[39;00m has_torch_function_unary(\u001b[39mself\u001b[39m):\n\u001b[0;32m    355\u001b[0m     \u001b[39mreturn\u001b[39;00m handle_torch_function(\n\u001b[0;32m    356\u001b[0m         Tensor\u001b[39m.\u001b[39mbackward,\n\u001b[0;32m    357\u001b[0m         (\u001b[39mself\u001b[39m,),\n\u001b[1;32m   (...)\u001b[0m\n\u001b[0;32m    361\u001b[0m         create_graph\u001b[39m=\u001b[39mcreate_graph,\n\u001b[0;32m    362\u001b[0m         inputs\u001b[39m=\u001b[39minputs)\n\u001b[1;32m--> 363\u001b[0m torch\u001b[39m.\u001b[39;49mautograd\u001b[39m.\u001b[39;49mbackward(\u001b[39mself\u001b[39;49m, gradient, retain_graph, create_graph, inputs\u001b[39m=\u001b[39;49minputs)\n",
      "File \u001b[1;32mc:\\Users\\fphub\\mambaforge\\envs\\iblenv\\lib\\site-packages\\torch\\autograd\\__init__.py:173\u001b[0m, in \u001b[0;36mbackward\u001b[1;34m(tensors, grad_tensors, retain_graph, create_graph, grad_variables, inputs)\u001b[0m\n\u001b[0;32m    168\u001b[0m     retain_graph \u001b[39m=\u001b[39m create_graph\n\u001b[0;32m    170\u001b[0m \u001b[39m# The reason we repeat same the comment below is that\u001b[39;00m\n\u001b[0;32m    171\u001b[0m \u001b[39m# some Python versions print out the first line of a multi-line function\u001b[39;00m\n\u001b[0;32m    172\u001b[0m \u001b[39m# calls in the traceback and some print out the last line\u001b[39;00m\n\u001b[1;32m--> 173\u001b[0m Variable\u001b[39m.\u001b[39;49m_execution_engine\u001b[39m.\u001b[39;49mrun_backward(  \u001b[39m# Calls into the C++ engine to run the backward pass\u001b[39;49;00m\n\u001b[0;32m    174\u001b[0m     tensors, grad_tensors_, retain_graph, create_graph, inputs,\n\u001b[0;32m    175\u001b[0m     allow_unreachable\u001b[39m=\u001b[39;49m\u001b[39mTrue\u001b[39;49;00m, accumulate_grad\u001b[39m=\u001b[39;49m\u001b[39mTrue\u001b[39;49;00m)\n",
      "\u001b[1;31mKeyboardInterrupt\u001b[0m: "
     ]
    }
   ],
   "source": [
    "from tqdm import tqdm\n",
    "\n",
    "for epoch in range(num_epochs):\n",
    "\n",
    "    pbar = tqdm(train_loader)\n",
    "    pbar.set_description(\"epoch %s/ loss=? \" % str(epoch+1))\n",
    "    \n",
    "    for data in pbar:\n",
    "        \n",
    "        imgs = data\n",
    "        imgs = imgs.to(device).float()\n",
    "        \n",
    "        # Feeding a batch of images into the network to obtain the output image, mu, and logVar\n",
    "        out, mu, logVar = net(imgs)\n",
    "        \n",
    "        # The loss is the BCE loss combined with the KL divergence to ensure the distribution is learnt\n",
    "        kl_divergence = -0.5 * torch.sum(1 + logVar - mu.pow(2) - logVar.exp())\n",
    "        loss = F.binary_cross_entropy(out, imgs, size_average=False) + kl_divergence\n",
    "        \n",
    "        # Backpropagation based on the loss\n",
    "        optimizer.zero_grad()\n",
    "        loss.backward()\n",
    "        optimizer.step()\n",
    "\n",
    "        pbar.set_description(\"epoch \"+str(epoch+1)+\"/\"+str(num_epochs)+\"/ loss= \"+str(loss.cpu().detach().numpy()) )\n",
    "        \n",
    "        "
   ]
  },
  {
   "cell_type": "code",
   "execution_count": 10,
   "metadata": {},
   "outputs": [
    {
     "data": {
      "image/png": "[encoded data removed]",
      "text/plain": [
       "<Figure size 432x288 with 2 Axes>"
      ]
     },
     "metadata": {
      "needs_background": "light"
     },
     "output_type": "display_data"
    }
   ],
   "source": [
    "import matplotlib.pyplot as plt\n",
    "import numpy as np\n",
    "import random\n",
    "\n",
    "net.eval()\n",
    "with torch.no_grad():\n",
    "    for data in random.sample(list(train_loader), 1):\n",
    "        imgs = data\n",
    "        imgs = imgs.to(device).float()\n",
    "        img = np.transpose(imgs[0].cpu().numpy(), [1,2,0])\n",
    "        plt.subplot(121)\n",
    "        plt.imshow(np.squeeze(img))\n",
    "        out, mu, logVAR = net(imgs)\n",
    "        outimg = np.transpose(out[0].cpu().numpy(), [1,2,0])\n",
    "        plt.subplot(122)\n",
    "        plt.imshow(np.squeeze(outimg))"
   ]
  },
  {
   "cell_type": "code",
   "execution_count": 16,
   "metadata": {},
   "outputs": [],
   "source": [
    "torch.save(net.state_dict(), 'vae_moving_digits.pt')"
   ]
  },
  {
   "cell_type": "code",
   "execution_count": 17,
   "metadata": {},
   "outputs": [
    {
     "data": {
      "text/plain": [
       "VAE(\n",
       "  (encConv1): Conv2d(1, 16, kernel_size=(5, 5), stride=(1, 1))\n",
       "  (encConv2): Conv2d(16, 32, kernel_size=(5, 5), stride=(1, 1))\n",
       "  (encFC): Linear(in_features=100352, out_features=256, bias=True)\n",
       "  (encFC1): Linear(in_features=256, out_features=16, bias=True)\n",
       "  (encFC2): Linear(in_features=256, out_features=16, bias=True)\n",
       "  (decFC): Linear(in_features=16, out_features=256, bias=True)\n",
       "  (decFC1): Linear(in_features=256, out_features=100352, bias=True)\n",
       "  (decConv1): ConvTranspose2d(32, 16, kernel_size=(5, 5), stride=(1, 1))\n",
       "  (decConv2): ConvTranspose2d(16, 1, kernel_size=(5, 5), stride=(1, 1))\n",
       ")"
      ]
     },
     "execution_count": 17,
     "metadata": {},
     "output_type": "execute_result"
    }
   ],
   "source": [
    "net = VAE().to(device)\n",
    "net.load_state_dict(torch.load('vae_moving_digits.pt'))\n",
    "net.eval()"
   ]
  },
  {
   "cell_type": "code",
   "execution_count": 23,
   "metadata": {},
   "outputs": [
    {
     "data": {
      "text/plain": [
       "VAE(\n",
       "  (encConv1): Conv2d(1, 16, kernel_size=(5, 5), stride=(1, 1))\n",
       "  (encConv2): Conv2d(16, 32, kernel_size=(5, 5), stride=(1, 1))\n",
       "  (maxpool): MaxPool2d(kernel_size=4, stride=4, padding=0, dilation=1, ceil_mode=False)\n",
       "  (encFC): Linear(in_features=6272, out_features=128, bias=True)\n",
       "  (encFC1): Linear(in_features=128, out_features=16, bias=True)\n",
       "  (encFC2): Linear(in_features=128, out_features=16, bias=True)\n",
       "  (decFC): Linear(in_features=16, out_features=128, bias=True)\n",
       "  (decFC1): Linear(in_features=128, out_features=100352, bias=True)\n",
       "  (decConv1): ConvTranspose2d(32, 16, kernel_size=(5, 5), stride=(1, 1))\n",
       "  (decConv2): ConvTranspose2d(16, 1, kernel_size=(5, 5), stride=(1, 1))\n",
       ")"
      ]
     },
     "execution_count": 23,
     "metadata": {},
     "output_type": "execute_result"
    }
   ],
   "source": [
    "net"
   ]
  }
 ],
 "metadata": {
  "kernelspec": {
   "display_name": "iblenv",
   "language": "python",
   "name": "python3"
  },
  "language_info": {
   "codemirror_mode": {
    "name": "ipython",
    "version": 3
   },
   "file_extension": ".py",
   "mimetype": "text/x-python",
   "name": "python",
   "nbconvert_exporter": "python",
   "pygments_lexer": "ipython3",
   "version": "3.9.0"
  },
  "orig_nbformat": 4,
  "vscode": {
   "interpreter": {
    "hash": "d0f7276b0a4ad5e97b001d58f6454f6bf5adb9c80ff56bc0201815623eccdc4e"
   }
  }
 },
 "nbformat": 4,
 "nbformat_minor": 2
}
