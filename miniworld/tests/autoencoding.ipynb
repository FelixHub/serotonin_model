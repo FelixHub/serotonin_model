{
 "cells": [
  {
   "cell_type": "code",
   "execution_count": 5,
   "metadata": {},
   "outputs": [],
   "source": [
    "import gymnasium as gym\n",
    "import numpy as np\n",
    "import torch.nn as nn\n",
    "import torch.optim as optim\n",
    "\n",
    "from experiments.utils import init_weights, make_var, print_model_info, save_img\n",
    "from miniworld.wrappers import PyTorchObsWrapper\n",
    "\n",
    "from tqdm import tqdm"
   ]
  },
  {
   "cell_type": "code",
   "execution_count": 4,
   "metadata": {},
   "outputs": [],
   "source": [
    "\n",
    "batch_size = 128\n",
    "\n",
    "buffer = np.zeros(shape=(32768, 3, 80, 60))\n",
    "cur_gen_idx = 0\n",
    "idx_avail = 0\n",
    "\n",
    "\n",
    "def gen_data():\n",
    "    global cur_gen_idx\n",
    "    global idx_avail\n",
    "\n",
    "    for _ in range(32):\n",
    "        buffer[cur_gen_idx] = env.reset()\n",
    "        cur_gen_idx = (cur_gen_idx + 1) % buffer.shape[0]\n",
    "        idx_avail = max(idx_avail, cur_gen_idx)"
   ]
  },
  {
   "cell_type": "code",
   "execution_count": 6,
   "metadata": {},
   "outputs": [
    {
     "name": "stdout",
     "output_type": "stream",
     "text": [
      "Model(\n",
      "  (encoder): Sequential(\n",
      "    (0): Conv2d(3, 32, kernel_size=(5, 5), stride=(2, 2))\n",
      "    (1): BatchNorm2d(32, eps=1e-05, momentum=0.1, affine=True, track_running_stats=True)\n",
      "    (2): LeakyReLU(negative_slope=0.01)\n",
      "    (3): Conv2d(32, 32, kernel_size=(5, 5), stride=(2, 2))\n",
      "    (4): BatchNorm2d(32, eps=1e-05, momentum=0.1, affine=True, track_running_stats=True)\n",
      "    (5): LeakyReLU(negative_slope=0.01)\n",
      "    (6): Conv2d(32, 32, kernel_size=(4, 4), stride=(2, 2))\n",
      "    (7): BatchNorm2d(32, eps=1e-05, momentum=0.1, affine=True, track_running_stats=True)\n",
      "    (8): LeakyReLU(negative_slope=0.01)\n",
      "    (9): Dropout(p=0.2, inplace=False)\n",
      "  )\n",
      "  (decoder): Sequential(\n",
      "    (0): ConvTranspose2d(32, 32, kernel_size=(6, 6), stride=(2, 2))\n",
      "    (1): LeakyReLU(negative_slope=0.01)\n",
      "    (2): ConvTranspose2d(32, 32, kernel_size=(6, 6), stride=(2, 2))\n",
      "    (3): LeakyReLU(negative_slope=0.01)\n",
      "    (4): ConvTranspose2d(32, 32, kernel_size=(4, 4), stride=(2, 2))\n",
      "    (5): LeakyReLU(negative_slope=0.01)\n",
      "    (6): ConvTranspose2d(32, 3, kernel_size=(2, 2), stride=(1, 1))\n",
      "    (7): LeakyReLU(negative_slope=0.01)\n",
      "  )\n",
      ")\n",
      "Total model size: 135267\n"
     ]
    },
    {
     "ename": "ValueError",
     "evalue": "setting an array element with a sequence. The requested array has an inhomogeneous shape after 1 dimensions. The detected shape was (2,) + inhomogeneous part.",
     "output_type": "error",
     "traceback": [
      "\u001b[1;31m---------------------------------------------------------------------------\u001b[0m",
      "\u001b[1;31mValueError\u001b[0m                                Traceback (most recent call last)",
      "Cell \u001b[1;32mIn[6], line 16\u001b[0m\n\u001b[0;32m     13\u001b[0m optimizer \u001b[39m=\u001b[39m optim\u001b[39m.\u001b[39mAdam(model\u001b[39m.\u001b[39mparameters(), lr\u001b[39m=\u001b[39m\u001b[39m1e-4\u001b[39m)\n\u001b[0;32m     15\u001b[0m \u001b[39mwhile\u001b[39;00m idx_avail \u001b[39m<\u001b[39m\u001b[39m=\u001b[39m batch_size:\n\u001b[1;32m---> 16\u001b[0m     gen_data()\n\u001b[0;32m     18\u001b[0m \u001b[39mfor\u001b[39;00m i \u001b[39min\u001b[39;00m tqdm(\u001b[39mrange\u001b[39m(\u001b[39m10000000\u001b[39m)):\n\u001b[0;32m     19\u001b[0m     \u001b[39mprint\u001b[39m(i, cur_gen_idx)\n",
      "Cell \u001b[1;32mIn[4], line 13\u001b[0m, in \u001b[0;36mgen_data\u001b[1;34m()\u001b[0m\n\u001b[0;32m     10\u001b[0m \u001b[39mglobal\u001b[39;00m idx_avail\n\u001b[0;32m     12\u001b[0m \u001b[39mfor\u001b[39;00m _ \u001b[39min\u001b[39;00m \u001b[39mrange\u001b[39m(\u001b[39m32\u001b[39m):\n\u001b[1;32m---> 13\u001b[0m     buffer[cur_gen_idx] \u001b[39m=\u001b[39m env\u001b[39m.\u001b[39mreset()\n\u001b[0;32m     14\u001b[0m     cur_gen_idx \u001b[39m=\u001b[39m (cur_gen_idx \u001b[39m+\u001b[39m \u001b[39m1\u001b[39m) \u001b[39m%\u001b[39m buffer\u001b[39m.\u001b[39mshape[\u001b[39m0\u001b[39m]\n\u001b[0;32m     15\u001b[0m     idx_avail \u001b[39m=\u001b[39m \u001b[39mmax\u001b[39m(idx_avail, cur_gen_idx)\n",
      "\u001b[1;31mValueError\u001b[0m: setting an array element with a sequence. The requested array has an inhomogeneous shape after 1 dimensions. The detected shape was (2,) + inhomogeneous part."
     ]
    }
   ],
   "source": [
    "\n",
    "# parser = argparse.ArgumentParser()\n",
    "# parser.add_argument('--map-name', required=True)\n",
    "# args = parser.parse_args()\n",
    "\n",
    "env = gym.make(\"MiniWorld-Hallway-v0\")\n",
    "env.domain_rand = True\n",
    "env = PyTorchObsWrapper(env)\n",
    "\n",
    "model = Model()\n",
    "model.cuda()\n",
    "print_model_info(model)\n",
    "\n",
    "optimizer = optim.Adam(model.parameters(), lr=1e-4)\n",
    "\n",
    "while idx_avail <= batch_size:\n",
    "    gen_data()\n",
    "\n",
    "for i in tqdm(range(10000000)):\n",
    "    print(i, cur_gen_idx)\n",
    "\n",
    "    batch_idx = np.random.randint(0, idx_avail - batch_size)\n",
    "    batch = buffer[batch_idx : (batch_idx + batch_size)]\n",
    "    batch = make_var(batch)\n",
    "\n",
    "    y = model(batch)\n",
    "\n",
    "    # Generate data while the GPU is computing\n",
    "    gen_data()\n",
    "\n",
    "    optimizer.zero_grad()\n",
    "    diff = y - batch\n",
    "    loss = (diff * diff).mean()  # L2 loss\n",
    "    # loss = (y - batch).abs().mean()\n",
    "    loss.backward()\n",
    "    optimizer.step()\n",
    "\n",
    "    print(loss.data.item())\n"
   ]
  },
  {
   "cell_type": "code",
   "execution_count": null,
   "metadata": {},
   "outputs": [],
   "source": []
  },
  {
   "cell_type": "code",
   "execution_count": null,
   "metadata": {},
   "outputs": [],
   "source": []
  }
 ],
 "metadata": {
  "kernelspec": {
   "display_name": "deep_env",
   "language": "python",
   "name": "python3"
  },
  "language_info": {
   "codemirror_mode": {
    "name": "ipython",
    "version": 3
   },
   "file_extension": ".py",
   "mimetype": "text/x-python",
   "name": "python",
   "nbconvert_exporter": "python",
   "pygments_lexer": "ipython3",
   "version": "3.10.9"
  },
  "orig_nbformat": 4,
  "vscode": {
   "interpreter": {
    "hash": "c269a8ac1ce32886f1d361a7d7752f19c27b7d8ebd8d0fb0e1cb07b13dddb563"
   }
  }
 },
 "nbformat": 4,
 "nbformat_minor": 2
}
