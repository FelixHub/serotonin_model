{
 "cells": [
  {
   "cell_type": "code",
   "execution_count": null,
   "metadata": {},
   "outputs": [],
   "source": [
    "import matplotlib.pyplot as plt; plt.rcParams['figure.dpi'] = 200\n",
    "import numpy as np"
   ]
  },
  {
   "cell_type": "code",
   "execution_count": 1,
   "metadata": {},
   "outputs": [],
   "source": [
    "data_path = \"../data/MNIST/\"\n",
    "data_files = [\n",
    "    \"standard.npy\", \n",
    "    \"random_position_glitch.npy\",\n",
    "    \"offset_position_glitch.npy\",\n",
    "    \"digit_glitch.npy\",\n",
    "    \"position_and_digit_glitch.npy\",\n",
    "    \"random_direction_glitch.npy\"\n",
    "    \"reverse_direction_glitch.npy\",\n",
    "    \"speed_glitch.npy\",\n",
    "    \"timed_bounce.npy\",\n",
    "]"
   ]
  },
  {
   "cell_type": "code",
   "execution_count": null,
   "metadata": {},
   "outputs": [],
   "source": [
    "# This assumes that you have already generated the data and saved it to your local data folder\n",
    "# If you haven't, please run the data_generator.py script first:\n",
    "'''\n",
    "data_path = \"../data/MNIST/\"\n",
    "import os\n",
    "from mnist.data_generation.generate_data import main as generate_mnist_data\n",
    "\n",
    "if not os.path.exists(data_path):\n",
    "    os.makedirs(data_path)\n",
    "\n",
    "generate_mnist_data(path=data_path)\n",
    "'''"
   ]
  },
  {
   "cell_type": "code",
   "execution_count": 2,
   "metadata": {},
   "outputs": [
    {
     "ename": "NameError",
     "evalue": "name 'plt' is not defined",
     "output_type": "error",
     "traceback": [
      "\u001b[1;31m---------------------------------------------------------------------------\u001b[0m",
      "\u001b[1;31mNameError\u001b[0m                                 Traceback (most recent call last)",
      "Cell \u001b[1;32mIn[2], line 1\u001b[0m\n\u001b[1;32m----> 1\u001b[0m fig, axs \u001b[39m=\u001b[39m plt\u001b[39m.\u001b[39msubplots(\u001b[39mlen\u001b[39m(data_files),\u001b[39m20\u001b[39m,figsize\u001b[39m=\u001b[39m(\u001b[39m20\u001b[39m,\u001b[39mlen\u001b[39m(data_files)))\n\u001b[0;32m      3\u001b[0m \u001b[39mfor\u001b[39;00m i, (file,axs_file) \u001b[39min\u001b[39;00m \u001b[39menumerate\u001b[39m(\u001b[39mzip\u001b[39m(data_files,axs)):\n\u001b[0;32m      4\u001b[0m     data \u001b[39m=\u001b[39m np\u001b[39m.\u001b[39mload(data_path \u001b[39m+\u001b[39m file)\n",
      "\u001b[1;31mNameError\u001b[0m: name 'plt' is not defined"
     ]
    }
   ],
   "source": [
    "fig, axs = plt.subplots(len(data_files),20,figsize=(20,len(data_files)))\n",
    "\n",
    "for i, (file,axs_file) in enumerate(zip(data_files,axs)):\n",
    "    data = np.load(data_path + file)\n",
    "    video = data[np.random.randint(100)]\n",
    "    axs_file[10].set_title(file.split(\".\")[0])\n",
    "\n",
    "    for frame, ax in enumerate(axs_file):\n",
    "        ax.imshow(video[frame,:,:])\n",
    "        ax.axis('off')\n",
    "\n",
    "fig.tight_layout()\n",
    "plt.show()"
   ]
  }
 ],
 "metadata": {
  "kernelspec": {
   "display_name": "serotonin",
   "language": "python",
   "name": "python3"
  },
  "language_info": {
   "codemirror_mode": {
    "name": "ipython",
    "version": 3
   },
   "file_extension": ".py",
   "mimetype": "text/x-python",
   "name": "python",
   "nbconvert_exporter": "python",
   "pygments_lexer": "ipython3",
   "version": "3.10.9"
  },
  "orig_nbformat": 4,
  "vscode": {
   "interpreter": {
    "hash": "2e6df180fe198a80f3f523653c9def562074b0e44589bb4ad6698066e9602a85"
   }
  }
 },
 "nbformat": 4,
 "nbformat_minor": 2
}
